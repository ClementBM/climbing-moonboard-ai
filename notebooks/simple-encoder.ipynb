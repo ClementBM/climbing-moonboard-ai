{
  "cells": [
    {
      "cell_type": "markdown",
      "metadata": {
        "colab_type": "text",
        "id": "view-in-github"
      },
      "source": [
        "<a href=\"https://colab.research.google.com/github/ClementBM/Experiment_DeepLearning_Moonboard_Grade-Prediction/blob/master/LSTM_BoulderProblem.ipynb\" target=\"_parent\"><img src=\"https://colab.research.google.com/assets/colab-badge.svg\" alt=\"Open In Colab\"/></a>"
      ]
    },
    {
      "cell_type": "markdown",
      "metadata": {
        "colab_type": "text",
        "id": "AKzCyqYz_MeH"
      },
      "source": [
        "# Import some relevant packages"
      ]
    },
    {
      "cell_type": "code",
      "execution_count": 1,
      "metadata": {
        "colab": {},
        "colab_type": "code",
        "id": "VpXNMx22PrXL"
      },
      "outputs": [],
      "source": [
        "from sklearn.utils import shuffle\n",
        "from torch.utils.data import DataLoader\n",
        "import torch\n",
        "from tqdm import tqdm\n",
        "\n",
        "from climbing_ai.moonboard_dataset import MoonboardDataset, data_preprocessing, extract_batch\n",
        "from climbing_ai.moonboard_tokenizer import MoonboardTokenizer\n",
        "from climbing_ai.moonboard_evaluation import evaluate\n",
        "\n",
        "N_LAYERS = 3\n",
        "ATTN_HEADS = 6 # 32 * 4 = 128\n",
        "DROPOUT = 0.1\n",
        "EMBED_DIM = 60\n",
        "\n",
        "IGNORE_INDEX = -100\n",
        "\n",
        "EVAL_ITERS = 10\n",
        "MAX_ITERS = 10000\n",
        "EVAL_INTERVAL = 1000\n",
        "LEARNING_RATE = 1e-4\n",
        "EPOCHS = 600\n",
        "\n",
        "BATCH_SIZE = 64 # how many independent sequences will we process in parallel?\n",
        "\n",
        "DEVICE = 'cuda' if torch.cuda.is_available() else 'cpu'"
      ]
    },
    {
      "cell_type": "markdown",
      "metadata": {
        "colab_type": "text",
        "id": "JxwbXWtQAYdt"
      },
      "source": [
        "# Load and parse data\n",
        "I scrapped little bits of data from the moonboard official website (hoped they don't bother.. ). The data is formatted as json files. Each file is named with the grade difficulty. In this step, I also calculate the distance between holds."
      ]
    },
    {
      "cell_type": "code",
      "execution_count": 2,
      "metadata": {},
      "outputs": [],
      "source": [
        "dataset = data_preprocessing()\n",
        "shuffled_dataset = shuffle(dataset, random_state=42)\n",
        "\n",
        "max_len = max([len(data[\"holds\"]) for data in dataset]) + 2\n",
        "\n",
        "# Keep 90% for training, 10% for validation\n",
        "split = int(0.9 * len(dataset))\n",
        "\n",
        "train_ds = shuffled_dataset[:split]\n",
        "eval_ds = shuffled_dataset[split:]\n",
        "\n",
        "tokenizer = MoonboardTokenizer(\n",
        "    horizontal_count=11,\n",
        "    vertical_count=18,\n",
        "    horizontal_spacing=50,\n",
        "    vertical_spacing=50,\n",
        ")\n",
        "\n",
        "train_dataset = MoonboardDataset(\n",
        "    dataset=train_ds, tokenizer=tokenizer, max_len=max_len\n",
        ")\n",
        "eval_dataset = MoonboardDataset(\n",
        "    dataset=eval_ds, tokenizer=tokenizer, max_len=max_len\n",
        ")\n",
        "\n",
        "train_dataloader = DataLoader(train_dataset, batch_size=BATCH_SIZE, shuffle=True, drop_last=True)\n",
        "eval_dataloader = DataLoader(eval_dataset, batch_size=1, shuffle=True)"
      ]
    },
    {
      "cell_type": "markdown",
      "metadata": {
        "colab_type": "text",
        "id": "ZVEMIBRs3_9W"
      },
      "source": [
        "# Look at the data\n",
        "Just a brief look at the data. We have distances - numerical data - and hold names - categorical data. In the following parts we use the one-hot vectors created from hold names. We add the numerical to the one-hot vector, ugly method waiting for a way to combine numerical and categorical variables in neural network."
      ]
    },
    {
      "cell_type": "code",
      "execution_count": 3,
      "metadata": {
        "colab": {
          "base_uri": "https://localhost:8080/",
          "height": 901
        },
        "colab_type": "code",
        "id": "inQGurR03--T",
        "outputId": "2f0c31cc-c8a2-4f3f-fb27-0c6508b50168"
      },
      "outputs": [
        {
          "data": {
            "text/plain": [
              "{'input_ids': tensor([  0,  72, 101, 112, 114, 140, 189, 200, 201, 201, 201, 201, 201, 201,\n",
              "         201, 201]),\n",
              " 'input_locations': tensor([[-100, -100],\n",
              "         [ 150,  850],\n",
              "         [ 250,  500],\n",
              "         [ 300,  150],\n",
              "         [ 300,  250],\n",
              "         [-100, -100],\n",
              "         [ 500,  400],\n",
              "         [-100, -100],\n",
              "         [-100, -100],\n",
              "         [-100, -100],\n",
              "         [-100, -100],\n",
              "         [-100, -100],\n",
              "         [-100, -100],\n",
              "         [-100, -100],\n",
              "         [-100, -100],\n",
              "         [-100, -100]]),\n",
              " 'masked_input_ids': tensor([  0,  72, 101, 112, 114, 199, 189, 200, 201, 201, 201, 201, 201, 201,\n",
              "         201, 201]),\n",
              " 'masked_token_ids': tensor([ 140, -100, -100, -100, -100, -100, -100, -100, -100, -100, -100, -100,\n",
              "         -100, -100, -100, -100]),\n",
              " 'masked_positions': tensor([5, 0, 0, 0, 0, 0, 0, 0, 0, 0, 0, 0, 0, 0, 0, 0]),\n",
              " 'attention_mask': tensor([0, 0, 0, 0, 0, 0, 0, 0, 1, 1, 1, 1, 1, 1, 1, 1]),\n",
              " 'grade_id': tensor(10)}"
            ]
          },
          "execution_count": 3,
          "metadata": {},
          "output_type": "execute_result"
        }
      ],
      "source": [
        "eval_dataset[9]"
      ]
    },
    {
      "cell_type": "markdown",
      "metadata": {},
      "source": [
        "# Building the model"
      ]
    },
    {
      "cell_type": "code",
      "execution_count": 4,
      "metadata": {},
      "outputs": [],
      "source": [
        "from climbing_ai.wolfbert_simple import WolfBERT\n",
        "\n",
        "\n",
        "model = WolfBERT(\n",
        "    vocab_size=tokenizer.get_vocab_size(),\n",
        "    embed_dim=EMBED_DIM,\n",
        "    num_heads=ATTN_HEADS,\n",
        "    dropout=DROPOUT,\n",
        "    classifier_count=len(MoonboardDataset.grades)\n",
        ")\n",
        "m = model.to(DEVICE)\n",
        "\n",
        "# create a PyTorch optimizer\n",
        "optimizer = torch.optim.AdamW(model.parameters(), lr=LEARNING_RATE)\n",
        "\n",
        "# `ignore_index`: specifies a target value that is ignored\n",
        "# and does not contribute to the input gradient. When :attr:`size_average` is\n",
        "# `True`, the loss is averaged over non-ignored targets. Note that\n",
        "# Only applicable when the target contains class indices\n",
        "\n",
        "loss_fn_lm = torch.nn.CrossEntropyLoss(ignore_index=IGNORE_INDEX)\n",
        "loss_fn_clsf = torch.nn.CrossEntropyLoss() "
      ]
    },
    {
      "cell_type": "markdown",
      "metadata": {},
      "source": [
        "# Training loop"
      ]
    },
    {
      "cell_type": "code",
      "execution_count": 5,
      "metadata": {},
      "outputs": [
        {
          "name": "stderr",
          "output_type": "stream",
          "text": [
            "Processing Epoch 00: 100%|██████████| 10/10 [00:02<00:00,  3.58it/s, loss=7.347]\n"
          ]
        }
      ],
      "source": [
        "epoch_iterator = tqdm(range(10))\n",
        "model.train()\n",
        "\n",
        "for epoch in epoch_iterator:\n",
        "    for batch in train_dataloader:\n",
        "        (\n",
        "            input_ids,\n",
        "            input_locations,\n",
        "            masked_input_ids,\n",
        "            masked_token_ids,\n",
        "            masked_positions,\n",
        "            attention_mask,\n",
        "            grade_id,\n",
        "            sequence_length,\n",
        "        ) = extract_batch(batch, DEVICE)\n",
        "\n",
        "        # evaluate the loss\n",
        "        logits_lm, logits_clsf = model(masked_input_ids,\n",
        "                                       attention_mask,\n",
        "                                       masked_positions)\n",
        "        \n",
        "        loss_lm = loss_fn_lm(logits_lm.transpose(-2,-1), masked_token_ids) # for masked LM\n",
        "        loss_clsf = loss_fn_clsf(logits_clsf, grade_id) # for sentence classification\n",
        "        loss = loss_lm + loss_clsf\n",
        "        \n",
        "        epoch_iterator.set_postfix({\"loss\": f\"{loss.item():6.3f}\"})\n",
        "\n",
        "        optimizer.zero_grad()\n",
        "        loss.backward()\n",
        "        optimizer.step()"
      ]
    },
    {
      "cell_type": "markdown",
      "metadata": {},
      "source": [
        "# Test time"
      ]
    },
    {
      "cell_type": "code",
      "execution_count": 6,
      "metadata": {},
      "outputs": [
        {
          "name": "stdout",
          "output_type": "stream",
          "text": [
            "['[CLS]', 'B6', 'C3', 'C12', 'G9', 'G15', '[MASK]', '[EOB]', '[PAD]', '[PAD]', '[PAD]', '[PAD]', '[PAD]', '[PAD]', '[PAD]', '[PAD]']\n",
            "['[CLS]', 'B6', 'C3', 'C12', 'G9', 'G15', 'H18', '[EOB]', '[PAD]', '[PAD]', '[PAD]', '[PAD]', '[PAD]', '[PAD]', '[PAD]', '[PAD]']\n"
          ]
        },
        {
          "data": {
            "text/plain": [
              "'H18'"
            ]
          },
          "metadata": {},
          "output_type": "display_data"
        },
        {
          "data": {
            "text/plain": [
              "tensor(5, device='cuda:0')"
            ]
          },
          "metadata": {},
          "output_type": "display_data"
        },
        {
          "data": {
            "text/plain": [
              "tensor(8)"
            ]
          },
          "metadata": {},
          "output_type": "display_data"
        }
      ],
      "source": [
        "from random import randint\n",
        "\n",
        "\n",
        "test_batch = train_dataset[randint(0,100)]\n",
        "\n",
        "input_ids = test_batch['input_ids'].unsqueeze(0).to(DEVICE)\n",
        "input_locations = test_batch['input_locations'].unsqueeze(0).to(DEVICE)\n",
        "masked_input_ids = test_batch['masked_input_ids'].unsqueeze(0).to(DEVICE)\n",
        "masked_token_ids = test_batch['masked_token_ids'].unsqueeze(0).to(DEVICE)\n",
        "masked_positions = test_batch['masked_positions'].unsqueeze(0).to(DEVICE)\n",
        "attention_mask = test_batch['attention_mask'].unsqueeze(0).to(DEVICE)\n",
        "\n",
        "model.eval()\n",
        "logits_lm, logits_clsf = model(masked_input_ids,\n",
        "                               attention_mask,\n",
        "                               masked_positions)\n",
        "model.train()\n",
        "\n",
        "print(tokenizer.decode(masked_input_ids.cpu().squeeze().numpy()))\n",
        "print(tokenizer.decode(input_ids.cpu().squeeze().numpy()))\n",
        "\n",
        "display(tokenizer.decode(torch.argmax(logits_lm[0], dim=1).cpu().squeeze().numpy())[0])\n",
        "\n",
        "display(torch.argmax(logits_clsf))\n",
        "display(test_batch[\"grade_id\"])"
      ]
    },
    {
      "cell_type": "markdown",
      "metadata": {
        "colab_type": "text",
        "id": "O5ichDCINOwF"
      },
      "source": [
        "# Evaluate\n",
        "* We make predictions on the test set rounding the predicted grade floating number.\n",
        "* We then calculate the related MAE based on these prediction.\n",
        "* The grade error is shown in the heat map.\n",
        "* The absolute error is shown in the histogram."
      ]
    },
    {
      "cell_type": "code",
      "execution_count": 7,
      "metadata": {},
      "outputs": [
        {
          "data": {
            "image/png": "[encoded data removed]",
            "text/plain": [
              "<Figure size 640x480 with 2 Axes>"
            ]
          },
          "metadata": {},
          "output_type": "display_data"
        },
        {
          "name": "stdout",
          "output_type": "stream",
          "text": [
            "MAE = 2.825688123703003\n",
            "Correctness Count = {0} : [14.68%] + {1} : [20.18%] = 34.86%\n",
            "First Bound Grade Error Count = {2} : [15.6%] + {3} : [14.68%] = 30.28%\n",
            "Second Bound Grade Error Count = {4} : [11.93%] + {5} : [8.26%] + {6} : [6.42%] = 26.61%\n"
          ]
        },
        {
          "data": {
            "image/png": "[encoded data removed]",
            "text/plain": [
              "<Figure size 640x480 with 1 Axes>"
            ]
          },
          "metadata": {},
          "output_type": "display_data"
        }
      ],
      "source": [
        "def call_model(compressed_batch, model):\n",
        "    (\n",
        "        input_ids,\n",
        "        input_locations,\n",
        "        masked_input_ids,\n",
        "        masked_token_ids,\n",
        "        masked_positions,\n",
        "        attention_mask,\n",
        "        grade_id,\n",
        "        sequence_length,\n",
        "    ) = compressed_batch\n",
        "\n",
        "    logits_lm, logits_clsf = model(\n",
        "        masked_input_ids,\n",
        "        attention_mask,\n",
        "        masked_positions\n",
        "    )\n",
        "    return logits_clsf\n",
        "\n",
        "evaluate(model=model,\n",
        "         call_model=call_model,\n",
        "         dataloader=eval_dataloader,\n",
        "         device=DEVICE)"
      ]
    }
  ],
  "metadata": {
    "colab": {
      "collapsed_sections": [],
      "include_colab_link": true,
      "name": "LSTM BoulderProblem.ipynb",
      "provenance": [],
      "version": "0.3.2"
    },
    "kernelspec": {
      "display_name": "Python 3",
      "name": "python3"
    },
    "language_info": {
      "codemirror_mode": {
        "name": "ipython",
        "version": 3
      },
      "file_extension": ".py",
      "mimetype": "text/x-python",
      "name": "python",
      "nbconvert_exporter": "python",
      "pygments_lexer": "ipython3",
      "version": "3.10.12"
    }
  },
  "nbformat": 4,
  "nbformat_minor": 0
}
