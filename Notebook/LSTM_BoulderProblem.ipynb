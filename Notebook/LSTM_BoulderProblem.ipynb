{
  "nbformat": 4,
  "nbformat_minor": 0,
  "metadata": {
    "colab": {
      "name": "LSTM BoulderProblem.ipynb",
      "version": "0.3.2",
      "provenance": [],
      "collapsed_sections": [],
      "include_colab_link": true
    },
    "kernelspec": {
      "name": "python3",
      "display_name": "Python 3"
    }
  },
  "cells": [
    {
      "cell_type": "markdown",
      "metadata": {
        "id": "view-in-github",
        "colab_type": "text"
      },
      "source": [
        "<a href=\"https://colab.research.google.com/github/ClementBM/Experiment_DeepLearning_Moonboard_Grade-Prediction/blob/master/LSTM_BoulderProblem.ipynb\" target=\"_parent\"><img src=\"https://colab.research.google.com/assets/colab-badge.svg\" alt=\"Open In Colab\"/></a>"
      ]
    },
    {
      "metadata": {
        "id": "AKzCyqYz_MeH",
        "colab_type": "text"
      },
      "cell_type": "markdown",
      "source": [
        "### Import some relevant packages\n",
        "Here, we import some common packages and Keras packages related with LSTM RNN"
      ]
    },
    {
      "metadata": {
        "id": "VpXNMx22PrXL",
        "colab_type": "code",
        "colab": {}
      },
      "cell_type": "code",
      "source": [
        "# Keras packages and related with LSTM RNN\n",
        "from sklearn.model_selection import train_test_split\n",
        "from sklearn.metrics import mean_squared_error\n",
        "from sklearn.preprocessing import normalize\n",
        "from keras.models import Sequential\n",
        "from keras.layers.core import Dense, Activation, Dropout\n",
        "from keras.layers.recurrent import LSTM\n",
        "from tensorflow.python.keras.preprocessing.sequence import pad_sequences\n",
        "\n",
        "# Common packages\n",
        "from pandas import read_csv\n",
        "import json\n",
        "from matplotlib import pyplot\n",
        "import matplotlib.cm as cm\n",
        "import math\n",
        "import os\n",
        "from os import listdir\n",
        "from os.path import isfile, join\n",
        "import numpy as np\n",
        "import collections\n",
        "import pandas as pd"
      ],
      "execution_count": 0,
      "outputs": []
    },
    {
      "metadata": {
        "id": "JxwbXWtQAYdt",
        "colab_type": "text"
      },
      "cell_type": "markdown",
      "source": [
        "### Load and parse data\n",
        "I scrapped little bits of data from the moonboard official website (hoped they don't bother.. ). The data is formatted as json files. Each file is named with the grade difficulty. In this step, I also calculate the distance between holds."
      ]
    },
    {
      "metadata": {
        "id": "dSNQ8Xt2Xddl",
        "colab_type": "code",
        "colab": {}
      },
      "cell_type": "code",
      "source": [
        "# used for holds serialization as one-hot vector\n",
        "abcIndex = ['A', 'B', 'C', 'D', 'E', 'F', 'G', 'H', 'I', 'J', 'K']\n",
        "# used for grade serialization as an integer ordinal (?) scale\n",
        "gradeIndex = ['6A+', '6B', '6B+', '6C', '6C+', '7A', '7A+', '7B', '7B+', '7C', '7C+']\n",
        "\n",
        "dataFiles = [f for f in listdir(\"sample_data\") if isfile(join(\"sample_data\", f))]\n",
        "\n",
        "boulderProblemsCategoricalMoves = []\n",
        "boulderProblemsOneHotVectMoves = []\n",
        "boulderProblemsDistances = []\n",
        "boulderProblemsMovesAndDistances = []\n",
        "bGrades = []\n",
        "  \n",
        "for dataFile in dataFiles:\n",
        "  bProblemsPath = os.path.join(\"sample_data\", dataFile)\n",
        "  bGrade = dataFile.replace(\".json\",\"\")\n",
        "  bGradeIndex = gradeIndex.index(bGrade)\n",
        "  gradeHotOne = [0] * len(gradeIndex)\n",
        "  gradeHotOne[bGradeIndex] = 1\n",
        "  \n",
        "  with open(bProblemsPath) as jsonData:\n",
        "      jsonRaw = jsonData.read()\n",
        "      boulderProblems5 = json.loads(jsonRaw)\n",
        "\n",
        "  exCount = len(boulderProblems5['Data'])\n",
        "\n",
        "  eobVect = [0] * 199\n",
        "  eobVect[198] = 1\n",
        "\n",
        "  for i in range(0, exCount):\n",
        "    moves = boulderProblems5['Data'][i]['Moves']\n",
        "    moveCount = len(moves)\n",
        "    boulderProblemOneHotVectMoves = []\n",
        "    boulderProblemCategoricalMoves = []\n",
        "    \n",
        "    holdLocations = boulderProblems5['Data'][i]['Locations']\n",
        "    holdCount = len(holdLocations)\n",
        "    distances = []\n",
        "    \n",
        "    if(moveCount != holdCount):\n",
        "      print(\"moveCount != holdCount\")\n",
        "    \n",
        "    for j in range(0, moveCount):\n",
        "      ## Get Hold Index\n",
        "      hold = moves[j]['Description']\n",
        "      boulderProblemCategoricalMoves.append(hold)\n",
        "      \n",
        "      letterIndex = abcIndex.index(hold[0])\n",
        "      number = int(hold[1:])\n",
        "      hotOneVect = [0] * 199 # 199 (distance)\n",
        "      hotOneVect[((letterIndex * 18) + number - 1)] = 1\n",
        "      boulderProblemOneHotVectMoves.append(hotOneVect)\n",
        "      \n",
        "      ## Get distance\n",
        "      currentHoldLocation = holdLocations[j]\n",
        "      if(j == 0):\n",
        "        distances.append([0, 0, 0])\n",
        "      else:\n",
        "        oldHoldLocation = holdLocations[j-1]\n",
        "        xDistance = currentHoldLocation['X'] - oldHoldLocation['X']\n",
        "        yDistance = currentHoldLocation['Y'] - oldHoldLocation['Y']\n",
        "        distance = math.sqrt(xDistance**2 + yDistance**2)\n",
        "        distances.append([xDistance, yDistance, distance])\n",
        "      ##\n",
        "      \n",
        "    # Add End Of Boulder vector\n",
        "    boulderProblemOneHotVectMoves.append(eobVect)\n",
        "    boulderProblemCategoricalMoves.append(\"EOB\")\n",
        "    distances.append([0, 0, 0])\n",
        "    \n",
        "    # Distances and Holds\n",
        "    boulderProblemsDistances.append(distances)\n",
        "    boulderProblemsCategoricalMoves.append(boulderProblemCategoricalMoves)\n",
        "    boulderProblemsOneHotVectMoves.append(boulderProblemOneHotVectMoves)\n",
        "    distancesNorm = np.divide(distances, 100) # arbitrary scaling\n",
        "    boulderProblemsMovesAndDistances.append(np.concatenate((boulderProblemOneHotVectMoves, distancesNorm), axis=1))\n",
        "\n",
        "    # y\n",
        "    bGrades.append(bGradeIndex)"
      ],
      "execution_count": 0,
      "outputs": []
    },
    {
      "metadata": {
        "id": "ZVEMIBRs3_9W",
        "colab_type": "text"
      },
      "cell_type": "markdown",
      "source": [
        "### Look at the data\n",
        "Just a brief look at the data. We have distances - numerical data - and hold names - categorical data. In the following parts we use the one-hot vectors created from hold names. We add the numerical to the one-hot vector, ugly method waiting for a way to combine numerical and categorical variables in neural network."
      ]
    },
    {
      "metadata": {
        "id": "inQGurR03--T",
        "colab_type": "code",
        "colab": {
          "base_uri": "https://localhost:8080/",
          "height": 901
        },
        "outputId": "2f0c31cc-c8a2-4f3f-fb27-0c6508b50168"
      },
      "cell_type": "code",
      "source": [
        "# display descriptive statistics\n",
        "distancesFlat = pd.DataFrame([y for x in boulderProblemsDistances for y in x])\n",
        "holdsFlat = pd.DataFrame([x for x in boulderProblemsCategoricalMoves])\n",
        "\n",
        "print(distancesFlat.head())\n",
        "print(holdsFlat.head())\n",
        "\n",
        "display(distancesFlat.describe(percentiles=[0.25,0.5,0.75,0.85,0.95,0.99]))\n",
        "display(holdsFlat.describe(percentiles=[0.25,0.5,0.75,0.85,0.95,0.99]))"
      ],
      "execution_count": 25,
      "outputs": [
        {
          "output_type": "display_data",
          "data": {
            "text/html": [
              "<div>\n",
              "<style scoped>\n",
              "    .dataframe tbody tr th:only-of-type {\n",
              "        vertical-align: middle;\n",
              "    }\n",
              "\n",
              "    .dataframe tbody tr th {\n",
              "        vertical-align: top;\n",
              "    }\n",
              "\n",
              "    .dataframe thead th {\n",
              "        text-align: right;\n",
              "    }\n",
              "</style>\n",
              "<table border=\"1\" class=\"dataframe\">\n",
              "  <thead>\n",
              "    <tr style=\"text-align: right;\">\n",
              "      <th></th>\n",
              "      <th>0</th>\n",
              "      <th>1</th>\n",
              "      <th>2</th>\n",
              "    </tr>\n",
              "  </thead>\n",
              "  <tbody>\n",
              "    <tr>\n",
              "      <th>count</th>\n",
              "      <td>9133.000000</td>\n",
              "      <td>9133.000000</td>\n",
              "      <td>9133.000000</td>\n",
              "    </tr>\n",
              "    <tr>\n",
              "      <th>mean</th>\n",
              "      <td>38.809811</td>\n",
              "      <td>4.065696</td>\n",
              "      <td>231.500410</td>\n",
              "    </tr>\n",
              "    <tr>\n",
              "      <th>std</th>\n",
              "      <td>47.045149</td>\n",
              "      <td>298.290162</td>\n",
              "      <td>197.774761</td>\n",
              "    </tr>\n",
              "    <tr>\n",
              "      <th>min</th>\n",
              "      <td>0.000000</td>\n",
              "      <td>-852.000000</td>\n",
              "      <td>0.000000</td>\n",
              "    </tr>\n",
              "    <tr>\n",
              "      <th>25%</th>\n",
              "      <td>0.000000</td>\n",
              "      <td>-200.000000</td>\n",
              "      <td>50.039984</td>\n",
              "    </tr>\n",
              "    <tr>\n",
              "      <th>50%</th>\n",
              "      <td>50.000000</td>\n",
              "      <td>0.000000</td>\n",
              "      <td>204.215572</td>\n",
              "    </tr>\n",
              "    <tr>\n",
              "      <th>75%</th>\n",
              "      <td>50.000000</td>\n",
              "      <td>200.000000</td>\n",
              "      <td>351.573605</td>\n",
              "    </tr>\n",
              "    <tr>\n",
              "      <th>85%</th>\n",
              "      <td>100.000000</td>\n",
              "      <td>300.000000</td>\n",
              "      <td>450.781544</td>\n",
              "    </tr>\n",
              "    <tr>\n",
              "      <th>95%</th>\n",
              "      <td>150.000000</td>\n",
              "      <td>500.000000</td>\n",
              "      <td>632.455532</td>\n",
              "    </tr>\n",
              "    <tr>\n",
              "      <th>99%</th>\n",
              "      <td>200.000000</td>\n",
              "      <td>700.000000</td>\n",
              "      <td>750.000000</td>\n",
              "    </tr>\n",
              "    <tr>\n",
              "      <th>max</th>\n",
              "      <td>250.000000</td>\n",
              "      <td>850.000000</td>\n",
              "      <td>873.212460</td>\n",
              "    </tr>\n",
              "  </tbody>\n",
              "</table>\n",
              "</div>"
            ],
            "text/plain": [
              "                 0            1            2\n",
              "count  9133.000000  9133.000000  9133.000000\n",
              "mean     38.809811     4.065696   231.500410\n",
              "std      47.045149   298.290162   197.774761\n",
              "min       0.000000  -852.000000     0.000000\n",
              "25%       0.000000  -200.000000    50.039984\n",
              "50%      50.000000     0.000000   204.215572\n",
              "75%      50.000000   200.000000   351.573605\n",
              "85%     100.000000   300.000000   450.781544\n",
              "95%     150.000000   500.000000   632.455532\n",
              "99%     200.000000   700.000000   750.000000\n",
              "max     250.000000   850.000000   873.212460"
            ]
          },
          "metadata": {
            "tags": []
          }
        },
        {
          "output_type": "display_data",
          "data": {
            "text/html": [
              "<div>\n",
              "<style scoped>\n",
              "    .dataframe tbody tr th:only-of-type {\n",
              "        vertical-align: middle;\n",
              "    }\n",
              "\n",
              "    .dataframe tbody tr th {\n",
              "        vertical-align: top;\n",
              "    }\n",
              "\n",
              "    .dataframe thead th {\n",
              "        text-align: right;\n",
              "    }\n",
              "</style>\n",
              "<table border=\"1\" class=\"dataframe\">\n",
              "  <thead>\n",
              "    <tr style=\"text-align: right;\">\n",
              "      <th></th>\n",
              "      <th>0</th>\n",
              "      <th>1</th>\n",
              "      <th>2</th>\n",
              "      <th>3</th>\n",
              "      <th>4</th>\n",
              "      <th>5</th>\n",
              "      <th>6</th>\n",
              "      <th>7</th>\n",
              "      <th>8</th>\n",
              "      <th>9</th>\n",
              "      <th>10</th>\n",
              "      <th>11</th>\n",
              "      <th>12</th>\n",
              "      <th>13</th>\n",
              "      <th>14</th>\n",
              "    </tr>\n",
              "  </thead>\n",
              "  <tbody>\n",
              "    <tr>\n",
              "      <th>count</th>\n",
              "      <td>1089</td>\n",
              "      <td>1089</td>\n",
              "      <td>1089</td>\n",
              "      <td>1089</td>\n",
              "      <td>1089</td>\n",
              "      <td>1077</td>\n",
              "      <td>1001</td>\n",
              "      <td>798</td>\n",
              "      <td>487</td>\n",
              "      <td>208</td>\n",
              "      <td>82</td>\n",
              "      <td>23</td>\n",
              "      <td>7</td>\n",
              "      <td>3</td>\n",
              "      <td>2</td>\n",
              "    </tr>\n",
              "    <tr>\n",
              "      <th>unique</th>\n",
              "      <td>130</td>\n",
              "      <td>151</td>\n",
              "      <td>146</td>\n",
              "      <td>160</td>\n",
              "      <td>160</td>\n",
              "      <td>155</td>\n",
              "      <td>141</td>\n",
              "      <td>118</td>\n",
              "      <td>74</td>\n",
              "      <td>50</td>\n",
              "      <td>21</td>\n",
              "      <td>8</td>\n",
              "      <td>3</td>\n",
              "      <td>3</td>\n",
              "      <td>1</td>\n",
              "    </tr>\n",
              "    <tr>\n",
              "      <th>top</th>\n",
              "      <td>F5</td>\n",
              "      <td>H5</td>\n",
              "      <td>G8</td>\n",
              "      <td>H10</td>\n",
              "      <td>G13</td>\n",
              "      <td>EOB</td>\n",
              "      <td>EOB</td>\n",
              "      <td>EOB</td>\n",
              "      <td>EOB</td>\n",
              "      <td>EOB</td>\n",
              "      <td>EOB</td>\n",
              "      <td>EOB</td>\n",
              "      <td>EOB</td>\n",
              "      <td>EOB</td>\n",
              "      <td>EOB</td>\n",
              "    </tr>\n",
              "    <tr>\n",
              "      <th>freq</th>\n",
              "      <td>127</td>\n",
              "      <td>56</td>\n",
              "      <td>51</td>\n",
              "      <td>56</td>\n",
              "      <td>80</td>\n",
              "      <td>76</td>\n",
              "      <td>203</td>\n",
              "      <td>311</td>\n",
              "      <td>279</td>\n",
              "      <td>126</td>\n",
              "      <td>59</td>\n",
              "      <td>16</td>\n",
              "      <td>4</td>\n",
              "      <td>1</td>\n",
              "      <td>2</td>\n",
              "    </tr>\n",
              "  </tbody>\n",
              "</table>\n",
              "</div>"
            ],
            "text/plain": [
              "          0     1     2     3     4     5     6    7    8    9    10   11  \\\n",
              "count   1089  1089  1089  1089  1089  1077  1001  798  487  208   82   23   \n",
              "unique   130   151   146   160   160   155   141  118   74   50   21    8   \n",
              "top       F5    H5    G8   H10   G13   EOB   EOB  EOB  EOB  EOB  EOB  EOB   \n",
              "freq     127    56    51    56    80    76   203  311  279  126   59   16   \n",
              "\n",
              "         12   13   14  \n",
              "count     7    3    2  \n",
              "unique    3    3    1  \n",
              "top     EOB  EOB  EOB  \n",
              "freq      4    1    2  "
            ]
          },
          "metadata": {
            "tags": []
          }
        },
        {
          "output_type": "stream",
          "text": [
            "     0    1           2\n",
            "0    0    0    0.000000\n",
            "1  150  148  210.722566\n",
            "2  100  150  180.277564\n",
            "3  200  300  360.555128\n",
            "4   50 -148  156.217797\n",
            "    0    1    2    3    4    5     6     7     8     9     10    11    12  \\\n",
            "0   J6   K9  F12  D15  A18  EOB  None  None  None  None  None  None  None   \n",
            "1  E14  F11  F10  H18   K3   K5    K9   EOB  None  None  None  None  None   \n",
            "2   D3   F3   G8  D12  E14  A18   EOB  None  None  None  None  None  None   \n",
            "3   E4  E12   G7  H18   H3  J14   EOB  None  None  None  None  None  None   \n",
            "4   D5   I5  H11  H12  H15  K16   G18   EOB  None  None  None  None  None   \n",
            "\n",
            "     13    14  \n",
            "0  None  None  \n",
            "1  None  None  \n",
            "2  None  None  \n",
            "3  None  None  \n",
            "4  None  None  \n"
          ],
          "name": "stdout"
        }
      ]
    },
    {
      "metadata": {
        "id": "8SRQCbCl1p7B",
        "colab_type": "text"
      },
      "cell_type": "markdown",
      "source": [
        "### Prepare the data for feeding the RNN.\n",
        "* Padding X data because it has irregular length.\n",
        "* Convert X and y to numpy array."
      ]
    },
    {
      "metadata": {
        "id": "xUEp3_epfPGM",
        "colab_type": "code",
        "colab": {}
      },
      "cell_type": "code",
      "source": [
        "maxLength = max([len(s) for s in boulderProblemsMovesAndDistances])\n",
        "X = np.array(boulderProblemsMovesAndDistances)\n",
        "Xpad = pad_sequences(X, maxlen=maxLength, padding='post')\n",
        "\n",
        "y = np.array(bGrades)"
      ],
      "execution_count": 0,
      "outputs": []
    },
    {
      "metadata": {
        "id": "97q3yIPxLWm8",
        "colab_type": "text"
      },
      "cell_type": "markdown",
      "source": [
        "### Spliting the data\n",
        "Split into train and test sets"
      ]
    },
    {
      "metadata": {
        "id": "JN-FeQ41QxXf",
        "colab_type": "code",
        "outputId": "640e7e3c-14f4-4099-e45a-8439aaa4ddc3",
        "colab": {
          "base_uri": "https://localhost:8080/",
          "height": 274
        }
      },
      "cell_type": "code",
      "source": [
        "RANDOM_SEED = 5\n",
        "X_train, X_test, y_train, y_test = train_test_split(Xpad, y, test_size=0.2, random_state=RANDOM_SEED)\n",
        "\n",
        "print(\"X_train\")\n",
        "print(X_train.shape)\n",
        "print(\"X_test\")\n",
        "print(X_test.shape)\n",
        "print(y_test)"
      ],
      "execution_count": 27,
      "outputs": [
        {
          "output_type": "stream",
          "text": [
            "X_train\n",
            "(871, 15, 202)\n",
            "X_test\n",
            "(218, 15, 202)\n",
            "[ 5  3  6  1  5  5 10  8  3  1  3  5  6  2  7  2  7  3  5  8  0  1  2  2\n",
            "  8  7  9  8  1  8  7  0  2  0  1  5  5  0  0  3  5  1  0  2  6  1  3  2\n",
            "  9  3  9  5  3  0  9  5  0  1  9  0 10  7  9  1 10  7  7  2  9  7  2  9\n",
            "  6  3  3  9  6  8  8  1  7  4  9  6  3  9  7  8  2  9  4  4  9  3  5  7\n",
            " 10  2  3  0 10  2  0  5  8  2  5  3  2  7  4 10  3  4  4  3  7  8  5  7\n",
            " 10  2  8  8  9  5  5  0  2  0  2  7  4  5  3  5  0  6  9  5  9  3  5  5\n",
            "  9  4  5  6  0  5  8 10  5  6  7  4  0  4  0  7  4  8  7  4  9  8 10  2\n",
            "  0  9  2  0  7  8  2  5  4  4  7  6  3  6  2  4  5  6  2  8  0  7 10  1\n",
            "  3  1  4  4  1  0  1  5  8  5  0  7  3  4  6 10  6  3  9  4  3  3 10  5\n",
            "  0  7]\n"
          ],
          "name": "stdout"
        }
      ]
    },
    {
      "metadata": {
        "id": "QEk95A0BLkgH",
        "colab_type": "text"
      },
      "cell_type": "markdown",
      "source": [
        "### Building the model\n",
        "Here we define the LSTM RNN."
      ]
    },
    {
      "metadata": {
        "id": "Xs-z8-qWQ24m",
        "colab_type": "code",
        "colab": {}
      },
      "cell_type": "code",
      "source": [
        "# Model\n",
        "model = Sequential()\n",
        "# first hidden layer\n",
        "model.add(LSTM(input_shape=(X_train.shape[1], X_train.shape[2]), units=50, return_sequences=True))\n",
        "model.add(Dropout(0.2))\n",
        "# second hidden layer\n",
        "model.add(LSTM(20, return_sequences=False))\n",
        "model.add(Dropout(0.2))\n",
        "# 1 neuron in the output layer\n",
        "model.add(Dense(10))\n",
        "model.add(Dense(1))\n",
        "model.add(Activation(\"linear\"))\n",
        "model.compile(loss='mae', optimizer='adam')"
      ],
      "execution_count": 0,
      "outputs": []
    },
    {
      "metadata": {
        "id": "Vrjton8-MXh9",
        "colab_type": "text"
      },
      "cell_type": "markdown",
      "source": [
        "### Fitting the model\n"
      ]
    },
    {
      "metadata": {
        "id": "xPgwCubZQ4iT",
        "colab_type": "code",
        "outputId": "013559d5-29da-40c7-8624-4cbff1b160b7",
        "colab": {
          "base_uri": "https://localhost:8080/",
          "height": 733
        }
      },
      "cell_type": "code",
      "source": [
        "# fit network\n",
        "history = model.fit(X_train, \n",
        "                    y_train, \n",
        "                    epochs=50,\n",
        "                    validation_data=(X_test, y_test),\n",
        "                    batch_size=64,\n",
        "                    verbose=0, \n",
        "                    shuffle=False)\n",
        "model.summary()\n",
        "\n",
        "# plot history\n",
        "pyplot.plot(history.history['loss'], label='train')\n",
        "pyplot.plot(history.history['val_loss'], label='test')\n",
        "pyplot.legend()\n",
        "pyplot.show()"
      ],
      "execution_count": 36,
      "outputs": [
        {
          "output_type": "stream",
          "text": [
            "_________________________________________________________________\n",
            "Layer (type)                 Output Shape              Param #   \n",
            "=================================================================\n",
            "lstm_5 (LSTM)                (None, 15, 50)            50600     \n",
            "_________________________________________________________________\n",
            "dropout_5 (Dropout)          (None, 15, 50)            0         \n",
            "_________________________________________________________________\n",
            "lstm_6 (LSTM)                (None, 20)                5680      \n",
            "_________________________________________________________________\n",
            "dropout_6 (Dropout)          (None, 20)                0         \n",
            "_________________________________________________________________\n",
            "dense_5 (Dense)              (None, 10)                210       \n",
            "_________________________________________________________________\n",
            "dense_6 (Dense)              (None, 1)                 11        \n",
            "_________________________________________________________________\n",
            "activation_3 (Activation)    (None, 1)                 0         \n",
            "=================================================================\n",
            "Total params: 56,501\n",
            "Trainable params: 56,501\n",
            "Non-trainable params: 0\n",
            "_________________________________________________________________\n"
          ],
          "name": "stdout"
        },
        {
          "output_type": "display_data",
          "data": {
            "image/png": "[encoded data removed]",
            "text/plain": [
              "<Figure size 576x396 with 1 Axes>"
            ]
          },
          "metadata": {
            "tags": []
          }
        }
      ]
    },
    {
      "metadata": {
        "id": "O5ichDCINOwF",
        "colab_type": "text"
      },
      "cell_type": "markdown",
      "source": [
        "### Evaluate Model\n",
        "The best part !\n",
        "\n",
        "We make predictions on the test set rounding the predicted grade floating number.\n",
        "\n",
        "We then calculate the related MAE based on these prediction.\n",
        "\n",
        "The grade error is shown in the heat map.\n",
        "\n",
        "The absolute error is shown in the histogram."
      ]
    },
    {
      "metadata": {
        "id": "b0W3aUL1fIJK",
        "colab_type": "code",
        "outputId": "a4c586a4-e1f3-4e31-d2bc-03416fe9acb8",
        "colab": {
          "base_uri": "https://localhost:8080/",
          "height": 795
        }
      },
      "cell_type": "code",
      "source": [
        "# make a prediction\n",
        "print(model.evaluate(X_test, y_test,verbose=1))\n",
        "# print(model.get_config())\n",
        "# print(model.get_weights())\n",
        "\n",
        "predictions = model.predict(X_test)\n",
        "meanAbsError = 0\n",
        "maeDifferences = []\n",
        "\n",
        "errorByGrade = np.zeros((len(gradeIndex), len(gradeIndex) * 2 - 1))\n",
        "\n",
        "for i in range(0, len(predictions)):\n",
        "  prediction = predictions[i][0]\n",
        "  roundedPrediction = int(round(prediction))\n",
        "  diff = roundedPrediction - y_test[i]\n",
        "  meanAbsError += abs(diff)\n",
        "  maeDifferences.append(abs(diff))\n",
        "  \n",
        "  errorByGrade[y_test[i], diff + len(gradeIndex) - 1] += 1\n",
        "\n",
        "errorByGradeRowSums = errorByGrade.sum(axis=1)\n",
        "errorByGradeNorm = errorByGrade / errorByGradeRowSums[:, np.newaxis]\n",
        "\n",
        "fig, ax = pyplot.subplots()\n",
        "im = ax.imshow(errorByGradeNorm, cmap=cm.cool)\n",
        "ax.figure.colorbar(im)\n",
        "\n",
        "ax.set_xticks(np.arange(len(gradeIndex) * 2 - 1))\n",
        "ax.set_xticklabels(np.arange(len(gradeIndex) * 2 - 1) - (len(gradeIndex) - 1))\n",
        "\n",
        "ax.set_yticks(np.arange(len(gradeIndex)))\n",
        "ax.set_yticklabels(gradeIndex)\n",
        "pyplot.show()\n",
        "\n",
        "print(\"MAE = {}\".format(meanAbsError / len(predictions)))\n",
        "\n",
        "maeDiffDictionnary = collections.Counter(maeDifferences)\n",
        "maeDiffDictionnary = collections.OrderedDict(sorted(maeDiffDictionnary.items()))\n",
        "maeDiffKeyPercentage = [x / len(maeDifferences) for x in maeDiffDictionnary.values()]\n",
        "\n",
        "zeroGradeErrorCount = maeDiffKeyPercentage[0] * 100\n",
        "oneGradeErrorCout = maeDiffKeyPercentage[1] * 100\n",
        "correctnessCount = zeroGradeErrorCount + oneGradeErrorCout\n",
        "\n",
        "twoGradeErrorCount = maeDiffKeyPercentage[2] * 100\n",
        "threeGradeErrorCount = maeDiffKeyPercentage[3] * 100\n",
        "firstBoundGradeErrorCount = twoGradeErrorCount + threeGradeErrorCount\n",
        "\n",
        "fourGradeErrorCount = maeDiffKeyPercentage[4] * 100\n",
        "fiveGradeErrorCount = maeDiffKeyPercentage[5] * 100\n",
        "sixGradeErrorCount = maeDiffKeyPercentage[6] * 100\n",
        "secondBoundGradeErrorCount = fourGradeErrorCount + fiveGradeErrorCount + sixGradeErrorCount\n",
        "\n",
        "print('Correctness Count = {{0}} : [{}%] + {{1}} : [{}%] = {}%'.format(round(zeroGradeErrorCount,2), round(oneGradeErrorCout,2), round(correctnessCount,2)))\n",
        "\n",
        "print('First Bound Grade Error Count = {{2}} : [{}%] + {{3}} : [{}%] = {}%'.format(round(twoGradeErrorCount,2), round(threeGradeErrorCount,2), round(firstBoundGradeErrorCount,2)))\n",
        "\n",
        "print('Second Bound Grade Error Count = {{4}} : [{}%] + {{5}} : [{}%] + {{6}} : [{}%] = {}%'.format(round(fourGradeErrorCount,2), round(fiveGradeErrorCount,2), round(sixGradeErrorCount,2), round(secondBoundGradeErrorCount,2)))\n",
        "\n",
        "pyplot.bar(maeDiffDictionnary.keys(), maeDiffKeyPercentage, 0.5, color='g')\n",
        "pyplot.plot()"
      ],
      "execution_count": 45,
      "outputs": [
        {
          "output_type": "stream",
          "text": [
            "218/218 [==============================] - 0s 177us/step\n",
            "1.6212825643906899\n"
          ],
          "name": "stdout"
        },
        {
          "output_type": "display_data",
          "data": {
            "image/png": "[encoded data removed]",
            "text/plain": [
              "<Figure size 576x396 with 2 Axes>"
            ]
          },
          "metadata": {
            "tags": []
          }
        },
        {
          "output_type": "stream",
          "text": [
            "MAE = 1.5871559633027523\n",
            "Correctness Count = {0} : [22.02%] + {1} : [35.32%] = 57.34%\n",
            "First Bound Grade Error Count = {2} : [21.1%] + {3} : [12.84%] = 33.94%\n",
            "Second Bound Grade Error Count = {4} : [3.21%] + {5} : [3.21%] + {6} : [2.29%] = 8.72%\n"
          ],
          "name": "stdout"
        },
        {
          "output_type": "execute_result",
          "data": {
            "text/plain": [
              "[]"
            ]
          },
          "metadata": {
            "tags": []
          },
          "execution_count": 45
        },
        {
          "output_type": "display_data",
          "data": {
            "image/png": "[encoded data removed]",
            "text/plain": [
              "<Figure size 576x396 with 1 Axes>"
            ]
          },
          "metadata": {
            "tags": []
          }
        }
      ]
    }
  ]
}